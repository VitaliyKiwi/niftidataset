{
 "cells": [
  {
   "cell_type": "markdown",
   "metadata": {},
   "source": [
    "# 5 Minute Tutorial\n",
    "\n",
    "Show an example use case of `niftidataset`"
   ]
  },
  {
   "cell_type": "markdown",
   "metadata": {},
   "source": [
    "## Setup notebook"
   ]
  },
  {
   "cell_type": "code",
   "execution_count": 1,
   "metadata": {},
   "outputs": [],
   "source": [
    "import os\n",
    "import sys\n",
    "\n",
    "import numpy as np\n",
    "import matplotlib.pyplot as plt\n",
    "\n",
    "import torch\n",
    "from torch import nn\n",
    "import torchvision.transforms as torch_tfms"
   ]
  },
  {
   "cell_type": "markdown",
   "metadata": {},
   "source": [
    " Support in-notebook plotting"
   ]
  },
  {
   "cell_type": "code",
   "execution_count": 2,
   "metadata": {},
   "outputs": [],
   "source": [
    "%matplotlib inline"
   ]
  },
  {
   "cell_type": "markdown",
   "metadata": {},
   "source": [
    "Report versions"
   ]
  },
  {
   "cell_type": "code",
   "execution_count": 3,
   "metadata": {},
   "outputs": [
    {
     "name": "stdout",
     "output_type": "stream",
     "text": [
      "numpy version: 1.15.3\n",
      "matplotlib version: 3.0.0\n"
     ]
    }
   ],
   "source": [
    "print('numpy version: {}'.format(np.__version__))\n",
    "from matplotlib import __version__ as mplver\n",
    "print('matplotlib version: {}'.format(mplver))"
   ]
  },
  {
   "cell_type": "code",
   "execution_count": 4,
   "metadata": {},
   "outputs": [
    {
     "name": "stdout",
     "output_type": "stream",
     "text": [
      "python version: 3.7.0\n"
     ]
    }
   ],
   "source": [
    "pv = sys.version_info\n",
    "print('python version: {}.{}.{}'.format(pv.major, pv.minor, pv.micro))"
   ]
  },
  {
   "cell_type": "markdown",
   "metadata": {},
   "source": [
    "Reload packages where content for package development"
   ]
  },
  {
   "cell_type": "code",
   "execution_count": 5,
   "metadata": {},
   "outputs": [],
   "source": [
    "%load_ext autoreload\n",
    "%autoreload 2"
   ]
  },
  {
   "cell_type": "markdown",
   "metadata": {},
   "source": [
    "## Define test images"
   ]
  },
  {
   "cell_type": "code",
   "execution_count": 6,
   "metadata": {},
   "outputs": [],
   "source": [
    "data_dir = '../tests/test_data/images/'"
   ]
  },
  {
   "cell_type": "markdown",
   "metadata": {},
   "source": [
    "## Setup a niftidataset class"
   ]
  },
  {
   "cell_type": "code",
   "execution_count": 7,
   "metadata": {},
   "outputs": [],
   "source": [
    "from niftidataset import *"
   ]
  },
  {
   "cell_type": "code",
   "execution_count": 8,
   "metadata": {},
   "outputs": [],
   "source": [
    "tfms = torch_tfms.Compose([RandomCrop2D(32, None), ToTensor()])\n",
    "ds = NiftiDataset(data_dir, data_dir, tfms)"
   ]
  },
  {
   "cell_type": "code",
   "execution_count": 9,
   "metadata": {},
   "outputs": [
    {
     "data": {
      "image/png": "[encoded data removed]",
      "text/plain": [
       "<Figure size 432x288 with 1 Axes>"
      ]
     },
     "metadata": {
      "needs_background": "light"
     },
     "output_type": "display_data"
    }
   ],
   "source": [
    "src,tgt = ds[0]\n",
    "plt.imshow(np.rot90(src), cmap='gist_gray')\n",
    "plt.axis('off');"
   ]
  },
  {
   "cell_type": "markdown",
   "metadata": {},
   "source": [
    "Note that this image is a very downsampled image from the publicly available [Kirby 21](https://www.nitrc.org/projects/multimodal) dataset."
   ]
  },
  {
   "cell_type": "markdown",
   "metadata": {},
   "source": [
    "## Test fastai\n",
    "\n",
    "This is not required for this tutorial but this is just a (silly) example of how to use fastai with this package"
   ]
  },
  {
   "cell_type": "code",
   "execution_count": 10,
   "metadata": {},
   "outputs": [],
   "source": [
    "import fastai as fai\n",
    "import fastai.vision as faiv\n",
    "import torchvision\n",
    "from torch.utils.data import DataLoader"
   ]
  },
  {
   "cell_type": "code",
   "execution_count": 11,
   "metadata": {},
   "outputs": [
    {
     "name": "stdout",
     "output_type": "stream",
     "text": [
      "fastai version: 1.0.12\n",
      "pytorch version: 1.0.0.dev20181014\n",
      "torchvision version: 0.2.1\n"
     ]
    }
   ],
   "source": [
    "print(f'fastai version: {fai.__version__}')\n",
    "print(f'pytorch version: {torch.__version__}')\n",
    "print(f'torchvision version: {torchvision.__version__}')"
   ]
  },
  {
   "cell_type": "code",
   "execution_count": 12,
   "metadata": {},
   "outputs": [],
   "source": [
    "def my_collate(batch):\n",
    "    x = torch.stack([torch.stack([b[0],b[0],b[0]]) for b in batch])\n",
    "    y = torch.stack([b[1].contiguous().view(-1) for b in batch])\n",
    "    return (x, y)"
   ]
  },
  {
   "cell_type": "code",
   "execution_count": 13,
   "metadata": {},
   "outputs": [],
   "source": [
    "tdl = DataLoader(ds, batch_size=2)\n",
    "vdl = DataLoader(ds, batch_size=2)\n",
    "\n",
    "idb = faiv.ImageDataBunch(tdl, vdl, collate_fn=my_collate)"
   ]
  },
  {
   "cell_type": "code",
   "execution_count": 14,
   "metadata": {},
   "outputs": [],
   "source": [
    "# create a custom head since the ConvLearner creates a head for a classification task\n",
    "\n",
    "head = nn.Sequential(\n",
    "        fai.AdaptiveConcatPool2d(), \n",
    "        fai.Flatten(),\n",
    "        nn.Linear(1024,32**2),\n",
    "        nn.ReLU(True),\n",
    "        nn.Linear(32**2, 32**2))"
   ]
  },
  {
   "cell_type": "code",
   "execution_count": 15,
   "metadata": {},
   "outputs": [],
   "source": [
    "loss = nn.MSELoss()\n",
    "loss.__name__ = 'MSE'"
   ]
  },
  {
   "cell_type": "code",
   "execution_count": 16,
   "metadata": {},
   "outputs": [],
   "source": [
    "learner = faiv.ConvLearner(idb, faiv.models.resnet18, \n",
    "                           custom_head=head, \n",
    "                           loss_func=loss, \n",
    "                           metrics=[loss])"
   ]
  },
  {
   "cell_type": "code",
   "execution_count": 17,
   "metadata": {},
   "outputs": [
    {
     "data": {
      "text/plain": [
       "512"
      ]
     },
     "execution_count": 17,
     "metadata": {},
     "output_type": "execute_result"
    }
   ],
   "source": [
    "faiv.num_features(learner.model)"
   ]
  },
  {
   "cell_type": "code",
   "execution_count": 18,
   "metadata": {},
   "outputs": [
    {
     "name": "stdout",
     "output_type": "stream",
     "text": [
      "tensor(84391067648., grad_fn=<MseLossBackward>)\n",
      "tensor(139998986240., grad_fn=<MseLossBackward>)\n"
     ]
    }
   ],
   "source": [
    "# test that the loss function and dataloaders are working as expected\n",
    "\n",
    "for x,y in idb.train_dl:\n",
    "    print(loss(learner.model(x),y))\n",
    "    break\n",
    "    \n",
    "for x,y in idb.valid_dl:\n",
    "    print(loss(learner.model(x),y))\n",
    "    break"
   ]
  },
  {
   "cell_type": "code",
   "execution_count": 19,
   "metadata": {},
   "outputs": [
    {
     "data": {
      "application/vnd.jupyter.widget-view+json": {
       "model_id": "b0a9d6972cc74e6191d6f35430ae1bc8",
       "version_major": 2,
       "version_minor": 0
      },
      "text/plain": [
       "VBox(children=(HBox(children=(IntProgress(value=0), HTML(value='0.00% [0/100 00:00<00:00]'))), HTML(value='epo…"
      ]
     },
     "metadata": {},
     "output_type": "display_data"
    }
   ],
   "source": [
    "learner.lr_find();"
   ]
  },
  {
   "cell_type": "code",
   "execution_count": 20,
   "metadata": {},
   "outputs": [
    {
     "data": {
      "image/png": "[encoded data removed]",
      "text/plain": [
       "<Figure size 432x288 with 1 Axes>"
      ]
     },
     "metadata": {
      "needs_background": "light"
     },
     "output_type": "display_data"
    }
   ],
   "source": [
    "learner.recorder.plot()"
   ]
  },
  {
   "cell_type": "code",
   "execution_count": 21,
   "metadata": {},
   "outputs": [
    {
     "data": {
      "application/vnd.jupyter.widget-view+json": {
       "model_id": "",
       "version_major": 2,
       "version_minor": 0
      },
      "text/plain": [
       "VBox(children=(HBox(children=(IntProgress(value=0, max=1), HTML(value='0.00% [0/1 00:00<00:00]'))), HTML(value…"
      ]
     },
     "metadata": {},
     "output_type": "display_data"
    },
    {
     "name": "stdout",
     "output_type": "stream",
     "text": [
      "Total time: 00:00\n",
      "epoch  train loss  valid loss  MSE                                 \n",
      "1      34790035456.000000  116975124480.000000  116975124480.000000  (00:00)\n",
      "\n"
     ]
    }
   ],
   "source": [
    "learner.fit(1)"
   ]
  }
 ],
 "metadata": {
  "kernelspec": {
   "display_name": "Python [conda env:neuropp]",
   "language": "python",
   "name": "conda-env-neuropp-py"
  },
  "language_info": {
   "codemirror_mode": {
    "name": "ipython",
    "version": 3
   },
   "file_extension": ".py",
   "mimetype": "text/x-python",
   "name": "python",
   "nbconvert_exporter": "python",
   "pygments_lexer": "ipython3",
   "version": "3.7.0"
  }
 },
 "nbformat": 4,
 "nbformat_minor": 2
}
